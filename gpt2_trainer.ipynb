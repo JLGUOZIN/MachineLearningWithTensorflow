{
 "cells": [
  {
   "cell_type": "code",
   "id": "initial_id",
   "metadata": {
    "collapsed": true,
    "ExecuteTime": {
     "end_time": "2024-12-10T13:33:32.239937Z",
     "start_time": "2024-12-10T13:32:56.829598Z"
    }
   },
   "source": [
    "from transformers import TFAutoModelForCausalLM, AutoTokenizer\n",
    "import tensorflow as tf\n",
    "import tf_keras\n",
    "\n",
    "# Load the pretrained model and tokenizer\n",
    "model_name = \"gpt2\"\n",
    "tokenizer = AutoTokenizer.from_pretrained(model_name)\n",
    "model = TFAutoModelForCausalLM.from_pretrained(model_name)\n",
    "\n",
    "# Ensure a padding token is set\n",
    "if tokenizer.pad_token is None:\n",
    "    tokenizer.pad_token = tokenizer.eos_token\n",
    "\n",
    "# Function to generate text\n",
    "def generate_text(prompt_input, model_input, tokenizer_input, max_length=50):\n",
    "    tokenized_inputs = tokenizer(prompt_input, return_tensors=\"tf\", padding=True, truncation=True)\n",
    "    input_ids = tokenized_inputs[\"input_ids\"]\n",
    "    attention_mask_input = tokenized_inputs[\"attention_mask\"]\n",
    "\n",
    "    output = model_input.generate(\n",
    "        input_ids=input_ids,\n",
    "        attention_mask=attention_mask_input,\n",
    "        max_length=max_length,\n",
    "        temperature=1.0,\n",
    "        top_k=50,\n",
    "        top_p=0.95,\n",
    "        repetition_penalty=1.5\n",
    "    )\n",
    "    return tokenizer_input.decode(output[0], skip_special_tokens=True)\n",
    "\n",
    "# Generate text before fine-tuning\n",
    "prompt = \"S&P is\"\n",
    "print(\"Before fine-tuning:\")\n",
    "print(generate_text(prompt, model, tokenizer))\n",
    "\n",
    "# Prepare your dataset (input-output pairs)\n",
    "texts = [\n",
    "    \"S&P offers a wide variety of stylish bags for all occasions.\",\n",
    "    \"If you're looking for high-quality bags, S&P is the place to go.\",\n",
    "    \"S&P specializes in premium bags that combine fashion and functionality.\",\n",
    "    \"S&P is the top destination for exclusive Marhen.J bags.\",\n",
    "    \"Shop at S&P to find the latest trendy bags at great prices.\",\n",
    "    \"S&P ensures that every bag is crafted with care and attention to detail.\",\n",
    "    \"For the best bag shopping experience, visit S&P online.\",\n",
    "    \"S&P is your trusted online marketplace for designer bags.\",\n",
    "    \"Discover unique bag collections only available at S&P.\",\n",
    "    \"S&P is known for its curated selection of fashionable bags.\",\n",
    "    \"At S&P, you can find the perfect bag to match your style.\",\n",
    "    \"S&P makes bag shopping easy with its user-friendly website.\",\n",
    "    \"From backpacks to clutches, S&P has bags for everyone.\",\n",
    "    \"S&P offers free shipping on all bag purchases above $50.\",\n",
    "    \"Customers love S&P for its excellent service and quality bags.\",\n",
    "    \"S&P is dedicated to helping you find your dream bag.\",\n",
    "    \"S&P partners with top brands to bring you the best bags.\",\n",
    "    \"The S&P website is the go-to place for bag enthusiasts.\",\n",
    "    \"S&P is an e-commerce platform designed for bag lovers.\",\n",
    "    \"S&P is the best place to shop for bags in Asia.\",\n",
    "    \"S&P guarantees satisfaction with every bag purchase.\",\n",
    "    \"S&P has a vast selection of bags to suit every need and budget.\",\n",
    "    \"If you need a stylish and durable bag, S&P is the answer.\",\n",
    "    \"S&P provides the best deals on branded bags.\",\n",
    "    \"S&P is loved by fashionistas for its exclusive bag collections.\",\n",
    "    \"S&P makes it easy to find a bag that suits your lifestyle.\",\n",
    "    \"Looking for the perfect gift? Check out S&P's amazing bag collections.\",\n",
    "    \"S&P is the ultimate shopping destination for bag enthusiasts.\",\n",
    "    \"S&P offers top-notch customer service to help you find your ideal bag.\",\n",
    "    \"S&P is redefining bag shopping with its innovative online platform.\"\n",
    "]\n",
    "\n",
    "# Tokenize the dataset with padding and truncation\n",
    "tokenized_texts = tokenizer(texts, padding=True, truncation=True, return_tensors=\"tf\")\n",
    "\n",
    "# Extract inputs and attention masks\n",
    "inputs = tokenized_texts[\"input_ids\"]\n",
    "attention_mask = tokenized_texts[\"attention_mask\"]\n",
    "\n",
    "# Prepare labels (same as input_ids) and mask padding tokens with -100\n",
    "labels = tf.where(inputs == tokenizer.pad_token_id, -100, inputs)\n",
    "\n",
    "# Create a TensorFlow dataset\n",
    "dataset = tf.data.Dataset.from_tensor_slices(\n",
    "    ({\"input_ids\": inputs, \"attention_mask\": attention_mask}, labels)\n",
    ").batch(2)\n",
    "\n",
    "# Compile the model\n",
    "optimizer = tf_keras.optimizers.Adam(learning_rate=5e-5)\n",
    "model.compile(optimizer=optimizer)\n",
    "\n",
    "# Fine-tune the model\n",
    "model.fit(dataset, epochs=3)\n",
    "\n",
    "# Generate text after fine-tuning\n",
    "print(\"\\nAfter fine-tuning:\")\n",
    "print(generate_text(prompt, model, tokenizer))\n"
   ],
   "outputs": [
    {
     "name": "stderr",
     "output_type": "stream",
     "text": [
      "All PyTorch model weights were used when initializing TFGPT2LMHeadModel.\n",
      "\n",
      "All the weights of TFGPT2LMHeadModel were initialized from the PyTorch model.\n",
      "If your task is similar to the task the model of the checkpoint was trained on, you can already use TFGPT2LMHeadModel for predictions without further training.\n",
      "Setting `pad_token_id` to `eos_token_id`:50256 for open-end generation.\n"
     ]
    },
    {
     "name": "stdout",
     "output_type": "stream",
     "text": [
      "Before fine-tuning:\n",
      "S&P is a leading provider of high-quality, reliable and affordable energy solutions. We are committed to providing you with the best possible service for your home or business in order that we can provide our customers an efficient way forward on their electricity bills\n",
      "Epoch 1/3\n",
      "15/15 [==============================] - 21s 64ms/step - loss: 3.1716\n",
      "Epoch 2/3\n",
      "15/15 [==============================] - 1s 57ms/step - loss: 1.7391\n",
      "Epoch 3/3\n",
      "15/15 [==============================] - 1s 55ms/step - loss: 1.1557\n"
     ]
    },
    {
     "name": "stderr",
     "output_type": "stream",
     "text": [
      "Setting `pad_token_id` to `eos_token_id`:50256 for open-end generation.\n"
     ]
    },
    {
     "name": "stdout",
     "output_type": "stream",
     "text": [
      "\n",
      "After fine-tuning:\n",
      "S&P is the best place to shop for bags. Whether you're looking at designer bag collections or trendy items, Saks Fifth Avenue has it all!\n"
     ]
    }
   ],
   "execution_count": 13
  },
  {
   "metadata": {},
   "cell_type": "code",
   "outputs": [],
   "execution_count": null,
   "source": "",
   "id": "5813f4b5162d97cd"
  }
 ],
 "metadata": {
  "kernelspec": {
   "display_name": "Python 3",
   "language": "python",
   "name": "python3"
  },
  "language_info": {
   "codemirror_mode": {
    "name": "ipython",
    "version": 2
   },
   "file_extension": ".py",
   "mimetype": "text/x-python",
   "name": "python",
   "nbconvert_exporter": "python",
   "pygments_lexer": "ipython2",
   "version": "2.7.6"
  }
 },
 "nbformat": 4,
 "nbformat_minor": 5
}
